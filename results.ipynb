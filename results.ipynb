{
 "cells": [
  {
   "cell_type": "code",
   "execution_count": 9,
   "metadata": {},
   "outputs": [
    {
     "name": "stdout",
     "output_type": "stream",
     "text": [
      "                0\n",
      "resnet18      5.2\n",
      "resnet101    86.1\n",
      "resnext50    81.6\n",
      "densenet121  58.4\n",
      "mobilenet    52.8\n",
      "vit          87.4\n",
      "swin         76.1\n",
      "inceptionv3  64.2\n",
      "[94.8 13.9 18.4 41.6 47.2 12.6 23.9 35.8]\n"
     ]
    }
   ],
   "source": [
    "import json\n",
    "import pandas as pd\n",
    "import numpy as np\n",
    "\n",
    "df = pd.read_json(\"experimental_data.json\", orient=\"index\")\n",
    "list = df.iloc[:, 0].to_numpy()\n",
    "list = 100 - list\n",
    "\n",
    "print(df)\n",
    "\n",
    "# printing the adversarial attack success rate\n",
    "print(list)"
   ]
  },
  {
   "cell_type": "code",
   "execution_count": 36,
   "metadata": {},
   "outputs": [],
   "source": [
    "# create a subset of the 1000 images from the Admix dataset\n",
    "import os\n",
    "\n",
    "path = \"data/val_loa\"\n",
    "\n",
    "names = pd.read_csv(\"data/val_rs.csv\")\n",
    "names_new = names[names['filename'].isin(os.listdir(path))]\n",
    "names_new.to_csv(\"data/val_loa.csv\", index=False)\n"
   ]
  },
  {
   "cell_type": "code",
   "execution_count": 37,
   "metadata": {},
   "outputs": [
    {
     "data": {
      "text/html": [
       "<div>\n",
       "<style scoped>\n",
       "    .dataframe tbody tr th:only-of-type {\n",
       "        vertical-align: middle;\n",
       "    }\n",
       "\n",
       "    .dataframe tbody tr th {\n",
       "        vertical-align: top;\n",
       "    }\n",
       "\n",
       "    .dataframe thead th {\n",
       "        text-align: right;\n",
       "    }\n",
       "</style>\n",
       "<table border=\"1\" class=\"dataframe\">\n",
       "  <thead>\n",
       "    <tr style=\"text-align: right;\">\n",
       "      <th></th>\n",
       "      <th>filename</th>\n",
       "      <th>label</th>\n",
       "    </tr>\n",
       "  </thead>\n",
       "  <tbody>\n",
       "    <tr>\n",
       "      <th>0</th>\n",
       "      <td>ILSVRC2012_val_00001689.JPEG</td>\n",
       "      <td>519</td>\n",
       "    </tr>\n",
       "    <tr>\n",
       "      <th>1</th>\n",
       "      <td>ILSVRC2012_val_00001827.JPEG</td>\n",
       "      <td>603</td>\n",
       "    </tr>\n",
       "    <tr>\n",
       "      <th>2</th>\n",
       "      <td>ILSVRC2012_val_00003377.JPEG</td>\n",
       "      <td>205</td>\n",
       "    </tr>\n",
       "    <tr>\n",
       "      <th>3</th>\n",
       "      <td>ILSVRC2012_val_00002983.JPEG</td>\n",
       "      <td>937</td>\n",
       "    </tr>\n",
       "    <tr>\n",
       "      <th>4</th>\n",
       "      <td>ILSVRC2012_val_00002369.JPEG</td>\n",
       "      <td>969</td>\n",
       "    </tr>\n",
       "    <tr>\n",
       "      <th>...</th>\n",
       "      <td>...</td>\n",
       "      <td>...</td>\n",
       "    </tr>\n",
       "    <tr>\n",
       "      <th>95</th>\n",
       "      <td>ILSVRC2012_val_00002280.JPEG</td>\n",
       "      <td>491</td>\n",
       "    </tr>\n",
       "    <tr>\n",
       "      <th>96</th>\n",
       "      <td>ILSVRC2012_val_00002467.JPEG</td>\n",
       "      <td>90</td>\n",
       "    </tr>\n",
       "    <tr>\n",
       "      <th>97</th>\n",
       "      <td>ILSVRC2012_val_00001653.JPEG</td>\n",
       "      <td>964</td>\n",
       "    </tr>\n",
       "    <tr>\n",
       "      <th>98</th>\n",
       "      <td>ILSVRC2012_val_00002347.JPEG</td>\n",
       "      <td>619</td>\n",
       "    </tr>\n",
       "    <tr>\n",
       "      <th>99</th>\n",
       "      <td>ILSVRC2012_val_00002342.JPEG</td>\n",
       "      <td>774</td>\n",
       "    </tr>\n",
       "  </tbody>\n",
       "</table>\n",
       "<p>100 rows × 2 columns</p>\n",
       "</div>"
      ],
      "text/plain": [
       "                        filename  label\n",
       "0   ILSVRC2012_val_00001689.JPEG    519\n",
       "1   ILSVRC2012_val_00001827.JPEG    603\n",
       "2   ILSVRC2012_val_00003377.JPEG    205\n",
       "3   ILSVRC2012_val_00002983.JPEG    937\n",
       "4   ILSVRC2012_val_00002369.JPEG    969\n",
       "..                           ...    ...\n",
       "95  ILSVRC2012_val_00002280.JPEG    491\n",
       "96  ILSVRC2012_val_00002467.JPEG     90\n",
       "97  ILSVRC2012_val_00001653.JPEG    964\n",
       "98  ILSVRC2012_val_00002347.JPEG    619\n",
       "99  ILSVRC2012_val_00002342.JPEG    774\n",
       "\n",
       "[100 rows x 2 columns]"
      ]
     },
     "execution_count": 37,
     "metadata": {},
     "output_type": "execute_result"
    }
   ],
   "source": [
    "df = pd.read_csv(\"data/val_loa.csv\")\n",
    "df"
   ]
  }
 ],
 "metadata": {
  "kernelspec": {
   "display_name": "rl",
   "language": "python",
   "name": "python3"
  },
  "language_info": {
   "codemirror_mode": {
    "name": "ipython",
    "version": 3
   },
   "file_extension": ".py",
   "mimetype": "text/x-python",
   "name": "python",
   "nbconvert_exporter": "python",
   "pygments_lexer": "ipython3",
   "version": "3.11.9"
  }
 },
 "nbformat": 4,
 "nbformat_minor": 2
}
