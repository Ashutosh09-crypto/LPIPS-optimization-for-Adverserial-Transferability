{
 "cells": [
  {
   "cell_type": "code",
   "execution_count": 10,
   "metadata": {},
   "outputs": [],
   "source": [
    "import numpy as np\n",
    "from PIL import Image\n",
    "import torch\n",
    "from torchmetrics.image.lpip import LearnedPerceptualImagePatchSimilarity as lpips\n",
    "from torchvision import transforms\n",
    "import matplotlib.pyplot as plt\n"
   ]
  },
  {
   "cell_type": "code",
   "execution_count": 4,
   "metadata": {},
   "outputs": [
    {
     "name": "stderr",
     "output_type": "stream",
     "text": [
      "Downloading: \"https://download.pytorch.org/models/squeezenet1_1-b8a52dc0.pth\" to C:\\Users\\Kshat/.cache\\torch\\hub\\checkpoints\\squeezenet1_1-b8a52dc0.pth\n",
      "100.0%\n"
     ]
    }
   ],
   "source": [
    "epsilon = 16/255\n",
    "alpha = 1.6/255\n",
    "epochs = 10\n",
    "decay = 1\n",
    "\n",
    "lpips_loss = lpips(net_type='squeeze', normalize=True)"
   ]
  },
  {
   "cell_type": "code",
   "execution_count": 5,
   "metadata": {},
   "outputs": [],
   "source": [
    "def add_noise(x, noise=None):\n",
    "        if noise != None:\n",
    "               return torch.clip(x + noise, 0, 1)\n",
    "        return torch.clip(x + torch.zeros_like(x).uniform_(-16/255,16/255), 0, 1)\n",
    "\n",
    "def tensor_to_image(image):\n",
    "      img = image.permute(1, 2, 0).cpu().detach().numpy() * 255\n",
    "      img = img.astype(np.uint8)\n",
    "      img = Image.fromarray(img)\n",
    "      return img\n",
    "\n",
    "def init_delta(data):\n",
    "        delta = torch.zeros_like(data)\n",
    "        delta.uniform_(-epsilon, epsilon)\n",
    "        delta.requires_grad = True\n",
    "        return delta\n",
    "\n",
    "def get_loss(image1, image2):\n",
    "       res = lpips_loss(image1, image2)\n",
    "       return res\n",
    "\n",
    "def update_delta(delta, grad):\n",
    "      delta = torch.clamp(delta + alpha * grad.sign(), -epsilon, epsilon)\n",
    "      return delta\n",
    "       \n",
    "\n",
    "image_path = \"dog.jpg\"\n",
    "\n",
    "transform = transforms.Compose([\n",
    "  transforms.ToTensor()  # Convert to tensor with pixel values between 0 and 1\n",
    "])"
   ]
  },
  {
   "cell_type": "code",
   "execution_count": 6,
   "metadata": {},
   "outputs": [],
   "source": [
    "image = Image.open(image_path).convert('RGB')\n",
    "\n",
    "transformed_image = transform(image)\n",
    "transformed_image.requires_grad = True\n",
    "\n",
    "transformed_image = transformed_image.view(1,3,1000,1500)"
   ]
  },
  {
   "cell_type": "code",
   "execution_count": 17,
   "metadata": {},
   "outputs": [
    {
     "name": "stdout",
     "output_type": "stream",
     "text": [
      "tensor(0.4750, grad_fn=<SqueezeBackward0>)\n",
      "tensor(0.7252, grad_fn=<SqueezeBackward0>)\n",
      "tensor(0.8424, grad_fn=<SqueezeBackward0>)\n",
      "tensor(0.9247, grad_fn=<SqueezeBackward0>)\n",
      "tensor(0.9829, grad_fn=<SqueezeBackward0>)\n",
      "tensor(1.0243, grad_fn=<SqueezeBackward0>)\n",
      "tensor(1.0572, grad_fn=<SqueezeBackward0>)\n",
      "tensor(1.0849, grad_fn=<SqueezeBackward0>)\n",
      "tensor(1.1092, grad_fn=<SqueezeBackward0>)\n",
      "tensor(1.1307, grad_fn=<SqueezeBackward0>)\n"
     ]
    }
   ],
   "source": [
    "delta = init_delta(transformed_image)\n",
    "noised_image = add_noise(transformed_image, delta)\n",
    "noised_image = noised_image.view(1,3,1000,1500)\n",
    "\n",
    "momentum = 0.\n",
    "for _ in range(10):\n",
    "        loss = get_loss(transformed_image, noised_image)\n",
    "        grad = torch.autograd.grad(loss, delta)[0]\n",
    "        momentum = momentum * decay + grad / (grad.abs().mean(dim=(1,2,3), keepdim=True))\n",
    "        delta = update_delta(delta, momentum)\n",
    "        noised_image = add_noise(noised_image, delta)\n",
    "        new_img = tensor_to_image(noised_image[0])\n",
    "        new_img.show()\n",
    "        new_img.save(f'LPIPS_Images/Lpips_image_{_}.jpg')\n",
    "        print(loss)"
   ]
  },
  {
   "cell_type": "code",
   "execution_count": null,
   "metadata": {},
   "outputs": [],
   "source": []
  },
  {
   "cell_type": "code",
   "execution_count": null,
   "metadata": {},
   "outputs": [],
   "source": []
  },
  {
   "cell_type": "code",
   "execution_count": null,
   "metadata": {},
   "outputs": [],
   "source": []
  }
 ],
 "metadata": {
  "kernelspec": {
   "display_name": "adl",
   "language": "python",
   "name": "python3"
  },
  "language_info": {
   "codemirror_mode": {
    "name": "ipython",
    "version": 3
   },
   "file_extension": ".py",
   "mimetype": "text/x-python",
   "name": "python",
   "nbconvert_exporter": "python",
   "pygments_lexer": "ipython3",
   "version": "3.11.9"
  }
 },
 "nbformat": 4,
 "nbformat_minor": 2
}
