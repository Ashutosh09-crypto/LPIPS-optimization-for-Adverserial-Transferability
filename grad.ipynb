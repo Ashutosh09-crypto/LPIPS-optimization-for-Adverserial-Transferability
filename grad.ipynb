{
 "cells": [
  {
   "cell_type": "code",
   "execution_count": 6,
   "metadata": {},
   "outputs": [],
   "source": [
    "import numpy as np\n",
    "from PIL import Image\n",
    "import torch\n",
    "from torchmetrics.image.lpip import LearnedPerceptualImagePatchSimilarity as lpips\n",
    "from torchvision import transforms\n",
    "from SIT import *\n"
   ]
  },
  {
   "cell_type": "code",
   "execution_count": 7,
   "metadata": {},
   "outputs": [],
   "source": [
    "epsilon = 16/255\n",
    "alpha = 0.6/255\n",
    "epochs = 10\n",
    "decay = 1\n",
    "\n",
    "lpips_loss = lpips(net_type='squeeze', normalize=True)"
   ]
  },
  {
   "cell_type": "markdown",
   "metadata": {},
   "source": [
    "# Utils"
   ]
  },
  {
   "cell_type": "code",
   "execution_count": 8,
   "metadata": {},
   "outputs": [],
   "source": [
    "def add_noise(x, noise=None):\n",
    "        if noise != None:\n",
    "               return torch.clip(x + noise, 0, 1)\n",
    "        return torch.clip(x + torch.zeros_like(x).uniform_(-16/255,16/255), 0, 1)\n",
    "\n",
    "def tensor_to_image(image):\n",
    "      img = image.permute(1, 2, 0).cpu().detach().numpy() * 255\n",
    "      img = img.astype(np.uint8)\n",
    "      img = Image.fromarray(img)\n",
    "      return img\n",
    "\n",
    "def give_sit_delta(data):\n",
    "      data_copy = blocktransform(data)\n",
    "      delta = data_copy - data\n",
    "      return delta\n",
    "\n",
    "def init_delta(data, method=None):\n",
    "      if method == None:\n",
    "            delta = torch.zeros_like(data)\n",
    "            delta.uniform_(-epsilon, epsilon)\n",
    "            delta.requires_grad = True\n",
    "            return delta\n",
    "      elif method == \"SIT\":\n",
    "        delta = give_sit_delta(data)\n",
    "\n",
    "      return delta\n",
    "\n",
    "def get_loss(image1, image2):\n",
    "       res = lpips_loss(image1, image2)\n",
    "       return res\n",
    "\n",
    "def update_delta(delta, grad):\n",
    "      delta = torch.clamp(delta + alpha * grad.sign(), -epsilon, epsilon)\n",
    "      return delta\n",
    "       \n",
    "def change_view(data):\n",
    "      _, x, y = data.shape\n",
    "      data = data.view(1,_,x,y)\n",
    "      return data\n",
    "\n",
    "image_path = \"dog.jpg\"\n",
    "\n",
    "transform = transforms.Compose([\n",
    "  transforms.ToTensor()  # Convert to tensor with pixel values between 0 and 1\n",
    "])"
   ]
  },
  {
   "cell_type": "markdown",
   "metadata": {},
   "source": [
    "# Lpips Optimization"
   ]
  },
  {
   "cell_type": "code",
   "execution_count": 4,
   "metadata": {},
   "outputs": [
    {
     "name": "stdout",
     "output_type": "stream",
     "text": [
      "tensor(0.4765, grad_fn=<SqueezeBackward0>)\n",
      "tensor(0.6789, grad_fn=<SqueezeBackward0>)\n",
      "tensor(0.7920, grad_fn=<SqueezeBackward0>)\n",
      "tensor(0.8667, grad_fn=<SqueezeBackward0>)\n",
      "tensor(0.9236, grad_fn=<SqueezeBackward0>)\n",
      "tensor(0.9685, grad_fn=<SqueezeBackward0>)\n",
      "tensor(1.0019, grad_fn=<SqueezeBackward0>)\n",
      "tensor(1.0275, grad_fn=<SqueezeBackward0>)\n",
      "tensor(1.0487, grad_fn=<SqueezeBackward0>)\n",
      "tensor(1.0671, grad_fn=<SqueezeBackward0>)\n"
     ]
    }
   ],
   "source": [
    "image = Image.open(image_path).convert('RGB')\n",
    "\n",
    "transformed_image = transform(image)\n",
    "transformed_image.requires_grad = True\n",
    "\n",
    "transformed_image = change_view(transformed_image)\n",
    "\n",
    "# delta = init_delta(transformed_image, method=\"SIT\")\n",
    "delta = init_delta(transformed_image)\n",
    "noised_image = add_noise(transformed_image, delta)\n",
    "\n",
    "momentum = 0.\n",
    "for _ in range(10):\n",
    "        loss = get_loss(transformed_image, noised_image)\n",
    "        grad = torch.autograd.grad(loss, delta)[0]\n",
    "        momentum = momentum * decay + grad / (grad.abs().mean(dim=(1,2,3), keepdim=True))\n",
    "        delta = update_delta(delta, momentum)\n",
    "        noised_image = add_noise(noised_image, delta)\n",
    "        new_img = tensor_to_image(noised_image[0])\n",
    "        new_img.save(f'LPIPS_Images/Lpips_image_{_}.jpg')\n",
    "        print(loss)"
   ]
  },
  {
   "cell_type": "markdown",
   "metadata": {},
   "source": [
    "# SIT After LPIPS Optimization"
   ]
  },
  {
   "cell_type": "code",
   "execution_count": 5,
   "metadata": {},
   "outputs": [
    {
     "name": "stdout",
     "output_type": "stream",
     "text": [
      "tensor(0.8711, grad_fn=<SqueezeBackward0>)\n"
     ]
    }
   ],
   "source": [
    "lpips_image = Image.open(\"LPIPS_Images/Lpips_image_1.jpg\").convert(\"RGB\")\n",
    "\n",
    "lpips_tensor = transform(lpips_image)\n",
    "\n",
    "lpips_tensor = change_view(lpips_tensor)\n",
    "lpips_tensor = add_noise(lpips_tensor ,give_sit_delta(lpips_tensor))\n",
    "\n",
    "new_score = get_loss(transformed_image, lpips_tensor)\n",
    "print(new_score)\n",
    "\n",
    "after_sit_image = tensor_to_image(lpips_tensor[0])\n",
    "after_sit_image.show()"
   ]
  },
  {
   "cell_type": "markdown",
   "metadata": {},
   "source": [
    "# Creating Adverserial Example"
   ]
  },
  {
   "cell_type": "code",
   "execution_count": null,
   "metadata": {},
   "outputs": [],
   "source": []
  },
  {
   "cell_type": "code",
   "execution_count": null,
   "metadata": {},
   "outputs": [],
   "source": []
  }
 ],
 "metadata": {
  "kernelspec": {
   "display_name": "adl",
   "language": "python",
   "name": "python3"
  },
  "language_info": {
   "codemirror_mode": {
    "name": "ipython",
    "version": 3
   },
   "file_extension": ".py",
   "mimetype": "text/x-python",
   "name": "python",
   "nbconvert_exporter": "python",
   "pygments_lexer": "ipython3",
   "version": "3.11.9"
  }
 },
 "nbformat": 4,
 "nbformat_minor": 2
}
