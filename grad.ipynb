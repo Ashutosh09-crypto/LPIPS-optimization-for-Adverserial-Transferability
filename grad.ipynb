{
 "cells": [
  {
   "cell_type": "code",
   "execution_count": 6,
   "metadata": {},
   "outputs": [],
   "source": [
    "import numpy as np\n",
    "from PIL import Image\n",
    "import torch\n",
    "from torchmetrics.image.lpip import LearnedPerceptualImagePatchSimilarity as lpips\n",
    "from torchvision import transforms\n",
    "from SIT import *\n"
   ]
  },
  {
   "cell_type": "code",
   "execution_count": 7,
   "metadata": {},
   "outputs": [],
   "source": [
    "epsilon = 16/255\n",
    "alpha = 1.6/255\n",
    "epochs = 10\n",
    "decay = 1\n",
    "\n",
    "lpips_loss = lpips(net_type='squeeze', normalize=True)"
   ]
  },
  {
   "cell_type": "code",
   "execution_count": 8,
   "metadata": {},
   "outputs": [],
   "source": [
    "def add_noise(x, noise=None):\n",
    "        if noise != None:\n",
    "               return torch.clip(x + noise, 0, 1)\n",
    "        return torch.clip(x + torch.zeros_like(x).uniform_(-16/255,16/255), 0, 1)\n",
    "\n",
    "def tensor_to_image(image):\n",
    "      img = image.permute(1, 2, 0).cpu().detach().numpy() * 255\n",
    "      img = img.astype(np.uint8)\n",
    "      img = Image.fromarray(img)\n",
    "      return img\n",
    "\n",
    "def init_delta(data, method=None):\n",
    "      if method == None:\n",
    "            delta = torch.zeros_like(data)\n",
    "            delta.uniform_(-epsilon, epsilon)\n",
    "            delta.requires_grad = True\n",
    "            return delta\n",
    "      elif method == \"SIT\":\n",
    "        data_copy = blocktransform(data)\n",
    "        copy_img = tensor_to_image(data_copy[0])\n",
    "        copy_img.show()\n",
    "        delta = data_copy - data\n",
    "      \n",
    "      return delta\n",
    "\n",
    "def get_loss(image1, image2):\n",
    "       res = lpips_loss(image1, image2)\n",
    "       return res\n",
    "\n",
    "def update_delta(delta, grad):\n",
    "      delta = torch.clamp(delta + alpha * grad.sign(), -epsilon, epsilon)\n",
    "      return delta\n",
    "       \n",
    "\n",
    "image_path = \"dog.jpg\"\n",
    "\n",
    "transform = transforms.Compose([\n",
    "  transforms.ToTensor()  # Convert to tensor with pixel values between 0 and 1\n",
    "])"
   ]
  },
  {
   "cell_type": "code",
   "execution_count": 9,
   "metadata": {},
   "outputs": [],
   "source": [
    "image = Image.open(image_path).convert('RGB')\n",
    "\n",
    "transformed_image = transform(image)\n",
    "transformed_image.requires_grad = True\n",
    "\n",
    "transformed_image = transformed_image.view(1,3,1000,1500)"
   ]
  },
  {
   "cell_type": "code",
   "execution_count": 10,
   "metadata": {},
   "outputs": [
    {
     "ename": "UnboundLocalError",
     "evalue": "cannot access local variable 'delta' where it is not associated with a value",
     "output_type": "error",
     "traceback": [
      "\u001b[1;31m---------------------------------------------------------------------------\u001b[0m",
      "\u001b[1;31mUnboundLocalError\u001b[0m                         Traceback (most recent call last)",
      "Cell \u001b[1;32mIn[10], line 1\u001b[0m\n\u001b[1;32m----> 1\u001b[0m delta \u001b[38;5;241m=\u001b[39m \u001b[43minit_delta\u001b[49m\u001b[43m(\u001b[49m\u001b[43mtransformed_image\u001b[49m\u001b[43m,\u001b[49m\u001b[43m \u001b[49m\u001b[43mmethod\u001b[49m\u001b[38;5;241;43m=\u001b[39;49m\u001b[38;5;124;43m\"\u001b[39;49m\u001b[38;5;124;43mNone\u001b[39;49m\u001b[38;5;124;43m\"\u001b[39;49m\u001b[43m)\u001b[49m\n\u001b[0;32m      2\u001b[0m \u001b[38;5;66;03m# delta = init_delta(transformed_image)\u001b[39;00m\n\u001b[0;32m      3\u001b[0m noised_image \u001b[38;5;241m=\u001b[39m add_noise(transformed_image, delta)\n",
      "Cell \u001b[1;32mIn[8], line 23\u001b[0m, in \u001b[0;36minit_delta\u001b[1;34m(data, method)\u001b[0m\n\u001b[0;32m     20\u001b[0m   copy_img\u001b[38;5;241m.\u001b[39mshow()\n\u001b[0;32m     21\u001b[0m   delta \u001b[38;5;241m=\u001b[39m data_copy \u001b[38;5;241m-\u001b[39m data\n\u001b[1;32m---> 23\u001b[0m \u001b[38;5;28;01mreturn\u001b[39;00m \u001b[43mdelta\u001b[49m\n",
      "\u001b[1;31mUnboundLocalError\u001b[0m: cannot access local variable 'delta' where it is not associated with a value"
     ]
    }
   ],
   "source": [
    "delta = init_delta(transformed_image, method=\"None\")\n",
    "# delta = init_delta(transformed_image)\n",
    "noised_image = add_noise(transformed_image, delta)\n",
    "noised_image = noised_image.view(1,3,1000,1500)\n",
    "\n",
    "momentum = 0.\n",
    "for _ in range(10):\n",
    "        loss = get_loss(transformed_image, noised_image)\n",
    "        grad = torch.autograd.grad(loss, delta)[0]\n",
    "        momentum = momentum * decay + grad / (grad.abs().mean(dim=(1,2,3), keepdim=True))\n",
    "        delta = update_delta(delta, momentum)\n",
    "        noised_image = add_noise(noised_image, delta)\n",
    "        new_img = tensor_to_image(noised_image[0])\n",
    "        new_img.save(f'LPIPS_Images/Lpips_image_{_}.jpg')\n",
    "        print(loss)"
   ]
  },
  {
   "cell_type": "code",
   "execution_count": null,
   "metadata": {},
   "outputs": [],
   "source": []
  },
  {
   "cell_type": "code",
   "execution_count": null,
   "metadata": {},
   "outputs": [],
   "source": []
  },
  {
   "cell_type": "code",
   "execution_count": null,
   "metadata": {},
   "outputs": [],
   "source": []
  }
 ],
 "metadata": {
  "kernelspec": {
   "display_name": "adl",
   "language": "python",
   "name": "python3"
  },
  "language_info": {
   "codemirror_mode": {
    "name": "ipython",
    "version": 3
   },
   "file_extension": ".py",
   "mimetype": "text/x-python",
   "name": "python",
   "nbconvert_exporter": "python",
   "pygments_lexer": "ipython3",
   "version": "3.11.9"
  }
 },
 "nbformat": 4,
 "nbformat_minor": 2
}
