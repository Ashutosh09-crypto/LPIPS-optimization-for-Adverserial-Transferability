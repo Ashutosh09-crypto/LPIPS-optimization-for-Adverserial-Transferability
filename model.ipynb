{
 "cells": [
  {
   "cell_type": "code",
   "execution_count": 89,
   "metadata": {},
   "outputs": [
    {
     "name": "stderr",
     "output_type": "stream",
     "text": [
      "d:\\programs\\miniconda3\\envs\\rl\\Lib\\site-packages\\torchvision\\models\\_utils.py:223: UserWarning: Arguments other than a weight enum or `None` for 'weights' are deprecated since 0.13 and may be removed in the future. The current behavior is equivalent to passing `weights=ResNet18_Weights.IMAGENET1K_V1`. You can also use `weights=ResNet18_Weights.DEFAULT` to get the most up-to-date weights.\n",
      "  warnings.warn(msg)\n"
     ]
    },
    {
     "name": "stdout",
     "output_type": "stream",
     "text": [
      "Predicted class: Golden Retriever\n"
     ]
    }
   ],
   "source": [
    "import torch\n",
    "import torchvision.models as models\n",
    "import torchvision.transforms as transforms\n",
    "from PIL import Image\n",
    "import requests\n",
    "import torch.nn.functional as F\n",
    "import os\n",
    "\n",
    "\n",
    "model = models.resnet18(weights=\"ResNet18_Weights.DEFAULT\")\n",
    "\n",
    "device = torch.device(\"cuda\" if torch.cuda.is_available() else \"cpu\")\n",
    "model.to(device)\n",
    "\n",
    "torch.save(model.state_dict(), 'models/resnet18.pth')\n",
    "model = models.resnet18()\n",
    "model.load_state_dict(torch.load('models/resnet18.pth'))\n",
    "model.to(device)\n",
    "\n",
    "model.eval()\n",
    "\n",
    "# load the ImageNet class labels\n",
    "labels_url = 'https://raw.githubusercontent.com/anishathalye/imagenet-simple-labels/master/imagenet-simple-labels.json'\n",
    "labels = requests.get(labels_url).json()\n",
    "\n",
    "def preprocess_image(image):\n",
    "    preprocess = transforms.Compose([\n",
    "        transforms.Resize(256),\n",
    "        transforms.CenterCrop(224),\n",
    "        transforms.ToTensor(),\n",
    "        transforms.Normalize(mean=[0.485, 0.456, 0.406], std=[0.229, 0.224, 0.225]),\n",
    "    ])\n",
    "    preprocessed_image = preprocess(image).unsqueeze(0).to(device)\n",
    "    return preprocessed_image  # Add batch dimension\n",
    "\n",
    "\n",
    "def classify_image(image_tensor):\n",
    "    # Perform inference\n",
    "    with torch.no_grad():\n",
    "        outputs = model(image_tensor)\n",
    "\n",
    "    # Get the predicted class\n",
    "    _, predicted = torch.max(outputs, 1)\n",
    "\n",
    "    # Print the predicted class label\n",
    "    print(\"Predicted class:\", labels[predicted.item()])\n",
    "\n",
    "\n",
    "image_path = \"LPIPS_Images/Lpips_image_9.jpg\" \n",
    "image = Image.open(image_path)\n",
    "image_tensor = preprocess_image(image)\n",
    "\n",
    "classify_image(image_tensor)"
   ]
  },
  {
   "cell_type": "code",
   "execution_count": 92,
   "metadata": {},
   "outputs": [
    {
     "name": "stdout",
     "output_type": "stream",
     "text": [
      "Prediction loss: 0.013039086014032364\n",
      "Prediction loss: 0.013970794156193733\n",
      "Prediction loss: 0.017695294693112373\n",
      "Prediction loss: 0.03191010281443596\n",
      "Prediction loss: 0.05621420964598656\n",
      "Prediction loss: 0.06990376859903336\n",
      "Prediction loss: 0.08865901082754135\n",
      "Prediction loss: 0.1454923003911972\n",
      "Prediction loss: 0.39733457565307617\n",
      "Prediction loss: 0.6536445617675781\n"
     ]
    }
   ],
   "source": [
    "# making ground label\n",
    "def ground_truth(true_class):\n",
    "    truth_tensor = [0]*1000\n",
    "    class_index = labels.index(true_class)\n",
    "    # print(\"class index of \"+ true_class, class_index)\n",
    "    truth_tensor[class_index] = 1\n",
    "    truth_tensor = torch.tensor(truth_tensor).unsqueeze(0).to(device)\n",
    "    truth_tensor = truth_tensor.to(torch.float32)\n",
    "\n",
    "    return truth_tensor\n",
    "\n",
    "directory = \"LPIPS_Images\"\n",
    "images_path = os.listdir(directory)\n",
    "\n",
    "for file in images_path:\n",
    "    file = os.path.join(directory, file)\n",
    "    image = Image.open(file)\n",
    "    image_tensor = preprocess_image(image)\n",
    "\n",
    "    # Perform inference\n",
    "    with torch.no_grad():\n",
    "        outputs = model(image_tensor)\n",
    "\n",
    "    # compute the loss\n",
    "    ground_truth_tensor = ground_truth('Golden Retriever')\n",
    "    loss = F.cross_entropy(outputs,ground_truth_tensor)\n",
    "    print(\"Prediction loss:\", loss.item())\n",
    "\n"
   ]
  }
 ],
 "metadata": {
  "kernelspec": {
   "display_name": "rl",
   "language": "python",
   "name": "python3"
  },
  "language_info": {
   "codemirror_mode": {
    "name": "ipython",
    "version": 3
   },
   "file_extension": ".py",
   "mimetype": "text/x-python",
   "name": "python",
   "nbconvert_exporter": "python",
   "pygments_lexer": "ipython3",
   "version": "3.11.9"
  }
 },
 "nbformat": 4,
 "nbformat_minor": 2
}
